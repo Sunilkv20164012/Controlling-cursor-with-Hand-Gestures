{
 "cells": [
  {
   "cell_type": "code",
   "execution_count": 37,
   "metadata": {},
   "outputs": [],
   "source": [
    "import matplotlib.pyplot as plt\n",
    "import os\n",
    "from PIL import Image\n",
    "import numpy as np"
   ]
  },
  {
   "cell_type": "code",
   "execution_count": 38,
   "metadata": {},
   "outputs": [],
   "source": [
    "%matplotlib inline"
   ]
  },
  {
   "cell_type": "code",
   "execution_count": 39,
   "metadata": {},
   "outputs": [
    {
     "data": {
      "text/plain": [
       "(<Figure size 432x288 with 10 Axes>,\n",
       " array([[<matplotlib.axes._subplots.AxesSubplot object at 0x7f9778ed90b8>,\n",
       "         <matplotlib.axes._subplots.AxesSubplot object at 0x7f9778f01da0>,\n",
       "         <matplotlib.axes._subplots.AxesSubplot object at 0x7f9779af09e8>,\n",
       "         <matplotlib.axes._subplots.AxesSubplot object at 0x7f9778eabb38>,\n",
       "         <matplotlib.axes._subplots.AxesSubplot object at 0x7f977893a400>],\n",
       "        [<matplotlib.axes._subplots.AxesSubplot object at 0x7f9779a69f98>,\n",
       "         <matplotlib.axes._subplots.AxesSubplot object at 0x7f977a013a20>,\n",
       "         <matplotlib.axes._subplots.AxesSubplot object at 0x7f977a56b400>,\n",
       "         <matplotlib.axes._subplots.AxesSubplot object at 0x7f97799022b0>,\n",
       "         <matplotlib.axes._subplots.AxesSubplot object at 0x7f9779a98a20>]],\n",
       "       dtype=object))"
      ]
     },
     "execution_count": 39,
     "metadata": {},
     "output_type": "execute_result"
    },
    {
     "data": {
      "image/png": "[encoded data removed]",
      "text/plain": [
       "<Figure size 432x288 with 10 Axes>"
      ]
     },
     "metadata": {
      "needs_background": "light"
     },
     "output_type": "display_data"
    }
   ],
   "source": []
  },
  {
   "cell_type": "code",
   "execution_count": 61,
   "metadata": {},
   "outputs": [],
   "source": [
    "files = os.listdir(\"./\")"
   ]
  },
  {
   "cell_type": "code",
   "execution_count": 62,
   "metadata": {},
   "outputs": [],
   "source": [
    "ans = []\n",
    "for file in files:\n",
    "    if file.endswith(\"png\"):\n",
    "        ans.append(file)"
   ]
  },
  {
   "cell_type": "code",
   "execution_count": null,
   "metadata": {},
   "outputs": [],
   "source": [
    "i = 0\n",
    "fig, ax = plt.subplots(nrows=2, ncols=5)\n",
    "\n",
    "for row in ax:\n",
    "    for col in row:\n",
    "        image = Image.open(ans[i])\n",
    "        plt.title(ans[i])\n",
    "        col.imshow(np.asarray(image))\n",
    "        i += 1\n",
    "\n",
    "plt.show()"
   ]
  },
  {
   "cell_type": "code",
   "execution_count": 46,
   "metadata": {},
   "outputs": [
    {
     "data": {
      "image/png": "[encoded data removed]",
      "text/plain": [
       "<Figure size 432x288 with 10 Axes>"
      ]
     },
     "metadata": {
      "needs_background": "light"
     },
     "output_type": "display_data"
    }
   ],
   "source": [
    "fig, ax = plt.subplots(nrows=2, ncols=5)\n",
    "for row in ax:\n",
    "    for col in row:\n",
    "        col.imshow(np.asarray(image))\n",
    "\n",
    "plt.show()"
   ]
  },
  {
   "cell_type": "code",
   "execution_count": null,
   "metadata": {},
   "outputs": [],
   "source": []
  }
 ],
 "metadata": {
  "kernelspec": {
   "display_name": "Python 3",
   "language": "python",
   "name": "python3"
  },
  "language_info": {
   "codemirror_mode": {
    "name": "ipython",
    "version": 3
   },
   "file_extension": ".py",
   "mimetype": "text/x-python",
   "name": "python",
   "nbconvert_exporter": "python",
   "pygments_lexer": "ipython3",
   "version": "3.7.1"
  }
 },
 "nbformat": 4,
 "nbformat_minor": 2
}
